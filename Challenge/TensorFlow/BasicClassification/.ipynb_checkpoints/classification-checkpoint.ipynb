{
 "cells": [
  {
   "cell_type": "markdown",
   "metadata": {},
   "source": [
    "# Basic Classification Example with TensorFlow\n",
    "Supervised problem"
   ]
  },
  {
   "cell_type": "code",
   "execution_count": 19,
   "metadata": {
    "collapsed": false
   },
   "outputs": [],
   "source": [
    "import tensorflow as tf\n",
    "import pandas as pd\n",
    "import numpy as np\n",
    "import matplotlib.pyplot as plt"
   ]
  },
  {
   "cell_type": "code",
   "execution_count": 20,
   "metadata": {
    "collapsed": false
   },
   "outputs": [
    {
     "name": "stdout",
     "output_type": "stream",
     "text": [
      "     area  bathrooms\n",
      "0  2104.0        3.0\n",
      "1  1600.0        3.0\n",
      "2  2400.0        3.0\n",
      "3  1416.0        2.0\n",
      "4  3000.0        4.0\n",
      "5  1985.0        4.0\n",
      "6  1534.0        3.0\n",
      "7  1427.0        3.0\n",
      "8  1380.0        3.0\n",
      "9  1494.0        3.0\n"
     ]
    }
   ],
   "source": [
    "dataframe = pd.read_csv('input/data.csv')\n",
    "\n",
    "dataframe = dataframe.drop(['index', 'price', 'sq_price'],axis=1)\n",
    "dataframe = dataframe[0:10]\n",
    "print (dataframe)"
   ]
  },
  {
   "cell_type": "code",
   "execution_count": 21,
   "metadata": {
    "collapsed": false
   },
   "outputs": [
    {
     "data": {
      "text/html": [
       "<div>\n",
       "<table border=\"1\" class=\"dataframe\">\n",
       "  <thead>\n",
       "    <tr style=\"text-align: right;\">\n",
       "      <th></th>\n",
       "      <th>area</th>\n",
       "      <th>bathrooms</th>\n",
       "      <th>y1</th>\n",
       "      <th>y2</th>\n",
       "    </tr>\n",
       "  </thead>\n",
       "  <tbody>\n",
       "    <tr>\n",
       "      <th>0</th>\n",
       "      <td>2104.0</td>\n",
       "      <td>3.0</td>\n",
       "      <td>1</td>\n",
       "      <td>0</td>\n",
       "    </tr>\n",
       "    <tr>\n",
       "      <th>1</th>\n",
       "      <td>1600.0</td>\n",
       "      <td>3.0</td>\n",
       "      <td>0</td>\n",
       "      <td>1</td>\n",
       "    </tr>\n",
       "    <tr>\n",
       "      <th>2</th>\n",
       "      <td>2400.0</td>\n",
       "      <td>3.0</td>\n",
       "      <td>1</td>\n",
       "      <td>0</td>\n",
       "    </tr>\n",
       "    <tr>\n",
       "      <th>3</th>\n",
       "      <td>1416.0</td>\n",
       "      <td>2.0</td>\n",
       "      <td>1</td>\n",
       "      <td>0</td>\n",
       "    </tr>\n",
       "    <tr>\n",
       "      <th>4</th>\n",
       "      <td>3000.0</td>\n",
       "      <td>4.0</td>\n",
       "      <td>0</td>\n",
       "      <td>1</td>\n",
       "    </tr>\n",
       "    <tr>\n",
       "      <th>5</th>\n",
       "      <td>1985.0</td>\n",
       "      <td>4.0</td>\n",
       "      <td>1</td>\n",
       "      <td>0</td>\n",
       "    </tr>\n",
       "    <tr>\n",
       "      <th>6</th>\n",
       "      <td>1534.0</td>\n",
       "      <td>3.0</td>\n",
       "      <td>1</td>\n",
       "      <td>0</td>\n",
       "    </tr>\n",
       "    <tr>\n",
       "      <th>7</th>\n",
       "      <td>1427.0</td>\n",
       "      <td>3.0</td>\n",
       "      <td>0</td>\n",
       "      <td>1</td>\n",
       "    </tr>\n",
       "    <tr>\n",
       "      <th>8</th>\n",
       "      <td>1380.0</td>\n",
       "      <td>3.0</td>\n",
       "      <td>0</td>\n",
       "      <td>1</td>\n",
       "    </tr>\n",
       "    <tr>\n",
       "      <th>9</th>\n",
       "      <td>1494.0</td>\n",
       "      <td>3.0</td>\n",
       "      <td>1</td>\n",
       "      <td>0</td>\n",
       "    </tr>\n",
       "  </tbody>\n",
       "</table>\n",
       "</div>"
      ],
      "text/plain": [
       "     area  bathrooms  y1  y2\n",
       "0  2104.0        3.0   1   0\n",
       "1  1600.0        3.0   0   1\n",
       "2  2400.0        3.0   1   0\n",
       "3  1416.0        2.0   1   0\n",
       "4  3000.0        4.0   0   1\n",
       "5  1985.0        4.0   1   0\n",
       "6  1534.0        3.0   1   0\n",
       "7  1427.0        3.0   0   1\n",
       "8  1380.0        3.0   0   1\n",
       "9  1494.0        3.0   1   0"
      ]
     },
     "execution_count": 21,
     "metadata": {},
     "output_type": "execute_result"
    }
   ],
   "source": [
    "# Add labels\n",
    "# 1 is good buy and 0 is bad buy\n",
    "dataframe.loc[:, ('y1')]  = [1,0,1,1,0,1,1,0,0,1]\n",
    "\n",
    "#y2 is the negation of the y1\n",
    "dataframe.loc[:, ('y2')] = dataframe['y1'] == 0\n",
    "\n",
    "# convert true/false value to 1s and 0s\n",
    "dataframe.loc[:, ('y2')] = dataframe['y2'].astype(int)\n",
    "dataframe"
   ]
  },
  {
   "cell_type": "code",
   "execution_count": 22,
   "metadata": {
    "collapsed": false
   },
   "outputs": [
    {
     "data": {
      "text/plain": [
       "array([[  2.10400000e+03,   3.00000000e+00],\n",
       "       [  1.60000000e+03,   3.00000000e+00],\n",
       "       [  2.40000000e+03,   3.00000000e+00],\n",
       "       [  1.41600000e+03,   2.00000000e+00],\n",
       "       [  3.00000000e+03,   4.00000000e+00],\n",
       "       [  1.98500000e+03,   4.00000000e+00],\n",
       "       [  1.53400000e+03,   3.00000000e+00],\n",
       "       [  1.42700000e+03,   3.00000000e+00],\n",
       "       [  1.38000000e+03,   3.00000000e+00],\n",
       "       [  1.49400000e+03,   3.00000000e+00]])"
      ]
     },
     "execution_count": 22,
     "metadata": {},
     "output_type": "execute_result"
    }
   ],
   "source": [
    "inputX = dataframe.loc[:, ['area','bathrooms']].as_matrix()\n",
    "inputY = dataframe.loc[:, ['y1','y2']].as_matrix()\n",
    "inputX"
   ]
  },
  {
   "cell_type": "code",
   "execution_count": 23,
   "metadata": {
    "collapsed": true
   },
   "outputs": [],
   "source": [
    "# Hyperparameters\n",
    "learning_rate = 0.00001\n",
    "training_epochs = 2000 #iterations\n",
    "display_steps = 50\n",
    "n_samples = inputY.size"
   ]
  },
  {
   "cell_type": "code",
   "execution_count": 24,
   "metadata": {
    "collapsed": false
   },
   "outputs": [],
   "source": [
    "# Create our computation graph/ Neural Network\n",
    "# for feature input tensors, none means any numbers of examples\n",
    "# placgeholder are gateways for data into our computation\n",
    "x = tf.placeholder(tf.float32, [None,2])\n",
    "\n",
    "#create weights\n",
    "# 2 X 2 float matrix, that we'll keep updateing through the training process\n",
    "w = tf.Variable(tf.zeros([2,2]))\n",
    "\n",
    "#create bias , we have 2 bias since we have two features\n",
    "b = tf.Variable(tf.zeros([2]))\n",
    "\n",
    "y_values = tf.add(tf.matmul(x,w),b)\n",
    "\n",
    "y = tf.nn.softmax(y_values)\n",
    "\n",
    "# For trainign purpose, we'll also feed a matrix of labels\n",
    "y_ = tf.placeholder(tf.float32, [None,2]) "
   ]
  },
  {
   "cell_type": "code",
   "execution_count": 25,
   "metadata": {
    "collapsed": true
   },
   "outputs": [],
   "source": [
    "#Cost function: Mean squared error\n",
    "cost = tf.reduce_sum(tf.pow(y_ - y, 2))/(2*n_samples)\n",
    "# Gradient Descent \n",
    "optimizer = tf.train.GradientDescentOptimizer(learning_rate).minimize(cost)"
   ]
  },
  {
   "cell_type": "code",
   "execution_count": 26,
   "metadata": {
    "collapsed": false
   },
   "outputs": [],
   "source": [
    "#Initialize variables and tensorflow session\n",
    "init = tf.global_variables_initializer()\n",
    "sess = tf.Session()\n",
    "sess.run(init)"
   ]
  },
  {
   "cell_type": "code",
   "execution_count": 29,
   "metadata": {
    "collapsed": false
   },
   "outputs": [
    {
     "name": "stdout",
     "output_type": "stream",
     "text": [
      "Training step: 0000 Cost: : 0.179621577\n",
      "Training step: 0050 Cost: : 0.124409631\n",
      "Training step: 0100 Cost: : 0.130626649\n",
      "Training step: 0150 Cost: : 0.122036673\n",
      "Training step: 0200 Cost: : 0.178424433\n",
      "Training step: 0250 Cost: : 0.179650024\n",
      "Training step: 0300 Cost: : 0.168474317\n",
      "Training step: 0350 Cost: : 0.120604970\n",
      "Training step: 0400 Cost: : 0.148979247\n",
      "Training step: 0450 Cost: : 0.121175483\n",
      "Training step: 0500 Cost: : 0.122474983\n",
      "Training step: 0550 Cost: : 0.127592951\n",
      "Training step: 0600 Cost: : 0.136060104\n",
      "Training step: 0650 Cost: : 0.179576680\n",
      "Training step: 0700 Cost: : 0.132564634\n",
      "Training step: 0750 Cost: : 0.161590815\n",
      "Training step: 0800 Cost: : 0.122441292\n",
      "Training step: 0850 Cost: : 0.124528550\n",
      "Training step: 0900 Cost: : 0.148342460\n",
      "Training step: 0950 Cost: : 0.150286108\n",
      "Training step: 1000 Cost: : 0.159916922\n",
      "Training step: 1050 Cost: : 0.135632202\n",
      "Training step: 1100 Cost: : 0.178581744\n",
      "Training step: 1150 Cost: : 0.148757309\n",
      "Training step: 1200 Cost: : 0.131191969\n",
      "Training step: 1250 Cost: : 0.122512922\n",
      "Training step: 1300 Cost: : 0.133562043\n",
      "Training step: 1350 Cost: : 0.128349364\n",
      "Training step: 1400 Cost: : 0.120700456\n",
      "Training step: 1450 Cost: : 0.134337470\n",
      "Training step: 1500 Cost: : 0.159385413\n",
      "Training step: 1550 Cost: : 0.153628394\n",
      "Training step: 1600 Cost: : 0.153024673\n",
      "Training step: 1650 Cost: : 0.145929262\n",
      "Training step: 1700 Cost: : 0.138359100\n",
      "Training step: 1750 Cost: : 0.168219805\n",
      "Training step: 1800 Cost: : 0.176170230\n",
      "Training step: 1850 Cost: : 0.143555760\n",
      "Training step: 1900 Cost: : 0.167155057\n",
      "Training step: 1950 Cost: : 0.160363227\n",
      "Optimization Done!\n",
      "Training cost= 0.135911 W= [[ 0.00034701 -0.00034702]\n",
      " [-0.00048713  0.00048713]] b= [ -5.25177638e-05   5.25177347e-05] \n",
      "\n"
     ]
    }
   ],
   "source": [
    "# Now for the actual training \n",
    "for i in range(training_epochs):\n",
    "    #Take a gradient descent step using our input and labels \n",
    "    sess.run(optimizer, feed_dict={x: inputX, y_:inputY})\n",
    "     \n",
    "    # Display logs per epoch step   \n",
    "    if (i)  % display_steps == 0:\n",
    "        cc = sess.run(cost, feed_dict={x: inputX, y_: inputY})\n",
    "        print(\"Training step:\", '%04d' % (i), \"Cost: :\", \"{:.9f}\".format(cc) )\n",
    "    \n",
    "print(\"Optimization Done!\")\n",
    "training_cost = sess.run(cost, feed_dict={x: inputX, y_: inputY})\n",
    "print (\"Training cost=\", training_cost, \"W=\", sess.run(w), \"b=\", sess.run(b), '\\n')\n",
    "    \n",
    "    \n",
    "    "
   ]
  },
  {
   "cell_type": "code",
   "execution_count": 30,
   "metadata": {
    "collapsed": false
   },
   "outputs": [
    {
     "data": {
      "text/plain": [
       "array([[ 0.81110567,  0.18889432],\n",
       "       [ 0.75164771,  0.24835223],\n",
       "       [ 0.8405925 ,  0.15940745],\n",
       "       [ 0.72724563,  0.27275443],\n",
       "       [ 0.88875496,  0.11124498],\n",
       "       [ 0.79796875,  0.20203131],\n",
       "       [ 0.74299878,  0.25700116],\n",
       "       [ 0.72856468,  0.27143532],\n",
       "       [ 0.72206604,  0.27793393],\n",
       "       [ 0.73766214,  0.26233789]], dtype=float32)"
      ]
     },
     "execution_count": 30,
     "metadata": {},
     "output_type": "execute_result"
    }
   ],
   "source": [
    "sess.run(y, feed_dict={x:inputX})"
   ]
  }
 ],
 "metadata": {
  "anaconda-cloud": {},
  "kernelspec": {
   "display_name": "Python [conda root]",
   "language": "python",
   "name": "conda-root-py"
  },
  "language_info": {
   "codemirror_mode": {
    "name": "ipython",
    "version": 3
   },
   "file_extension": ".py",
   "mimetype": "text/x-python",
   "name": "python",
   "nbconvert_exporter": "python",
   "pygments_lexer": "ipython3",
   "version": "3.5.2"
  }
 },
 "nbformat": 4,
 "nbformat_minor": 1
}
